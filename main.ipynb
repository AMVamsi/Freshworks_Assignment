{
 "cells": [
  {
   "cell_type": "code",
   "execution_count": 1,
   "metadata": {},
   "outputs": [],
   "source": [
    "#import the file as library\n",
    "import DataStoreLibrary as data\n",
    "import threading\n",
    "import time\n",
    "from threading import Thread \n",
    "import json\n",
    "import os"
   ]
  },
  {
   "cell_type": "code",
   "execution_count": 2,
   "metadata": {},
   "outputs": [],
   "source": [
    "def value(Id,age):\n",
    "    value1= {'ID':Id, 'Age' : age}\n",
    "    return value1"
   ]
  },
  {
   "cell_type": "code",
   "execution_count": 3,
   "metadata": {},
   "outputs": [
    {
     "name": "stdout",
     "output_type": "stream",
     "text": [
      "Populating the DataStore : \n",
      "ERROR: KEY  John  ALREADY EXISTS\n",
      "ERROR: KEY  Wick  ALREADY EXISTS\n",
      "KEY  Dog  CREATED SUCCESSFULLY!!\n",
      "\n",
      "to create a key which is already present : \n",
      "ERROR: KEY  Dog  ALREADY EXISTS\n",
      "\n",
      "Read Key:value\n",
      "John : [{'ID': 4, 'Age': 24}, 0]\n",
      "KEY  Dog DELETION COMPLETED\n",
      "\n",
      "Read a deleted Key :\n",
      "ERROR: ENTER VALID KEY_NAME  Dog\n",
      "\n",
      "######## Thread-Safe Code Test ########\n",
      "\n",
      "John : [{'ID': 4, 'Age': 24}, 0]\n",
      "KEY  Kill  CREATED SUCCESSFULLY!!\n",
      "Thread-safe Testing done\n"
     ]
    }
   ],
   "source": [
    "if __name__ == \"__main__\":\n",
    "    \n",
    "    filepath='/Users/msml/Vamsi/John.json'\n",
    "    \n",
    "    #to create a key with key_name,value and with no time-to-live property\n",
    "    print(\"Populating the DataStore : \")\n",
    "    data.create(\"John\",{'ID':4, 'Age':24},0,filepath)\n",
    "\n",
    "    data.create(\"Wick\",value(4,24),0,filepath)\n",
    "    \n",
    "    #to create a key with key_name,value given and time-to-live property\n",
    "    data.create(\"Dog\",value(1,3),30,filepath)\n",
    "    \n",
    "    #to create a key which is already present \n",
    "    print(\"\\nto create a key which is already present : \")\n",
    "    data.create(\"Dog\",value(1,3),0,filepath)\n",
    "\n",
    "    #it returns the value of the respective key in Json-object format 'key_name:value'\n",
    "    print(\"\\nRead Key:value\")\n",
    "    data.read(\"John\",filepath)\n",
    "    #returns error as there is no such object with that key value\n",
    "\n",
    "    #Delete the json-object with the key\n",
    "    data.delete(\"Dog\",filepath)\n",
    "\n",
    "    #to read a deleted key\n",
    "    print(\"\\nRead a deleted Key :\")\n",
    "    data.read(\"Dog\",filepath)\n",
    "\n",
    "    print(\"\\n######## Thread-Safe Code Test ########\\n\")\n",
    "    #creating thread \n",
    "    t1 = threading.Thread(target=data.read, args=(\"John\",filepath))\n",
    "    t2 = threading.Thread(target=data.create, args=(\"Kill\",value(52,40),25,filepath))\n",
    "\n",
    "    t1.start()\n",
    "    t2.start() \n",
    "\n",
    "\n",
    "\n",
    "    time.sleep(2)\n",
    "    stop_threads = True\n",
    "    t1.join() \n",
    "    t2.join()\n",
    "\n",
    "    # both threads completely executed \n",
    "    print(\"Thread-safe Testing done\")"
   ]
  },
  {
   "cell_type": "code",
   "execution_count": 4,
   "metadata": {},
   "outputs": [
    {
     "name": "stdout",
     "output_type": "stream",
     "text": [
      "to read TTL dependent key-value value after time has expired :\n",
      "ERROR: TIME TO ACCESS THE Kill HAS EXPIRED\n"
     ]
    }
   ],
   "source": [
    "#read TTL dependent key-value value after time has expired\n",
    "print(\"to read TTL dependent key-value value after time has expired :\")\n",
    "data.read(\"Kill\",filepath)"
   ]
  },
  {
   "cell_type": "code",
   "execution_count": null,
   "metadata": {},
   "outputs": [],
   "source": []
  }
 ],
 "metadata": {
  "kernelspec": {
   "display_name": "Python 3",
   "language": "python",
   "name": "python3"
  },
  "language_info": {
   "codemirror_mode": {
    "name": "ipython",
    "version": 3
   },
   "file_extension": ".py",
   "mimetype": "text/x-python",
   "name": "python",
   "nbconvert_exporter": "python",
   "pygments_lexer": "ipython3",
   "version": "3.8.3"
  }
 },
 "nbformat": 4,
 "nbformat_minor": 4
}
